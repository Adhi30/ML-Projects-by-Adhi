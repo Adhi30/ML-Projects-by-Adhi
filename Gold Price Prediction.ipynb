{
 "cells": [
  {
   "cell_type": "markdown",
   "id": "3b8435fd-2760-4bde-ba04-06711c881b20",
   "metadata": {},
   "source": [
    "Importing Libraries :"
   ]
  },
  {
   "cell_type": "code",
   "execution_count": 1,
   "id": "3cfd9f88-150b-441e-a97d-9c394ec7fc57",
   "metadata": {},
   "outputs": [],
   "source": [
    "import pandas as pd\n",
    "import numpy as np\n",
    "import matplotlib.pyplot as plt\n",
    "import seaborn as sns\n",
    "from sklearn.model_selection import train_test_split\n",
    "from sklearn.ensemble import RandomForestRegressor\n",
    "from sklearn import metrics"
   ]
  },
  {
   "cell_type": "markdown",
   "id": "ac189dfe-e623-4eaf-8dfb-8c694a1ca9c5",
   "metadata": {},
   "source": [
    "Data Collection and Pre-Processing :"
   ]
  },
  {
   "cell_type": "code",
   "execution_count": 2,
   "id": "adfbeac7-6d14-4fbb-b7ea-967849eb84e2",
   "metadata": {},
   "outputs": [],
   "source": [
    "gold_data = pd.read_csv(\"gld_price_data.csv\")"
   ]
  },
  {
   "cell_type": "code",
   "execution_count": 3,
   "id": "52e1d1ae-512b-4ec8-a3b5-75a5728c4f96",
   "metadata": {},
   "outputs": [
    {
     "data": {
      "text/html": [
       "<div>\n",
       "<style scoped>\n",
       "    .dataframe tbody tr th:only-of-type {\n",
       "        vertical-align: middle;\n",
       "    }\n",
       "\n",
       "    .dataframe tbody tr th {\n",
       "        vertical-align: top;\n",
       "    }\n",
       "\n",
       "    .dataframe thead th {\n",
       "        text-align: right;\n",
       "    }\n",
       "</style>\n",
       "<table border=\"1\" class=\"dataframe\">\n",
       "  <thead>\n",
       "    <tr style=\"text-align: right;\">\n",
       "      <th></th>\n",
       "      <th>Date</th>\n",
       "      <th>SPX</th>\n",
       "      <th>GLD</th>\n",
       "      <th>USO</th>\n",
       "      <th>SLV</th>\n",
       "      <th>EUR/USD</th>\n",
       "    </tr>\n",
       "  </thead>\n",
       "  <tbody>\n",
       "    <tr>\n",
       "      <th>0</th>\n",
       "      <td>1/2/2008</td>\n",
       "      <td>1447.160034</td>\n",
       "      <td>84.860001</td>\n",
       "      <td>78.470001</td>\n",
       "      <td>15.180</td>\n",
       "      <td>1.471692</td>\n",
       "    </tr>\n",
       "    <tr>\n",
       "      <th>1</th>\n",
       "      <td>1/3/2008</td>\n",
       "      <td>1447.160034</td>\n",
       "      <td>85.570000</td>\n",
       "      <td>78.370003</td>\n",
       "      <td>15.285</td>\n",
       "      <td>1.474491</td>\n",
       "    </tr>\n",
       "    <tr>\n",
       "      <th>2</th>\n",
       "      <td>1/4/2008</td>\n",
       "      <td>1411.630005</td>\n",
       "      <td>85.129997</td>\n",
       "      <td>77.309998</td>\n",
       "      <td>15.167</td>\n",
       "      <td>1.475492</td>\n",
       "    </tr>\n",
       "    <tr>\n",
       "      <th>3</th>\n",
       "      <td>1/7/2008</td>\n",
       "      <td>1416.180054</td>\n",
       "      <td>84.769997</td>\n",
       "      <td>75.500000</td>\n",
       "      <td>15.053</td>\n",
       "      <td>1.468299</td>\n",
       "    </tr>\n",
       "    <tr>\n",
       "      <th>4</th>\n",
       "      <td>1/8/2008</td>\n",
       "      <td>1390.189941</td>\n",
       "      <td>86.779999</td>\n",
       "      <td>76.059998</td>\n",
       "      <td>15.590</td>\n",
       "      <td>1.557099</td>\n",
       "    </tr>\n",
       "  </tbody>\n",
       "</table>\n",
       "</div>"
      ],
      "text/plain": [
       "       Date          SPX        GLD        USO     SLV   EUR/USD\n",
       "0  1/2/2008  1447.160034  84.860001  78.470001  15.180  1.471692\n",
       "1  1/3/2008  1447.160034  85.570000  78.370003  15.285  1.474491\n",
       "2  1/4/2008  1411.630005  85.129997  77.309998  15.167  1.475492\n",
       "3  1/7/2008  1416.180054  84.769997  75.500000  15.053  1.468299\n",
       "4  1/8/2008  1390.189941  86.779999  76.059998  15.590  1.557099"
      ]
     },
     "execution_count": 3,
     "metadata": {},
     "output_type": "execute_result"
    }
   ],
   "source": [
    "#printing first 5 rows of dataset\n",
    "\n",
    "gold_data.head()"
   ]
  },
  {
   "cell_type": "code",
   "execution_count": 4,
   "id": "30ebc1ee-3aee-487a-b720-dc5dfaf476f9",
   "metadata": {},
   "outputs": [
    {
     "data": {
      "text/html": [
       "<div>\n",
       "<style scoped>\n",
       "    .dataframe tbody tr th:only-of-type {\n",
       "        vertical-align: middle;\n",
       "    }\n",
       "\n",
       "    .dataframe tbody tr th {\n",
       "        vertical-align: top;\n",
       "    }\n",
       "\n",
       "    .dataframe thead th {\n",
       "        text-align: right;\n",
       "    }\n",
       "</style>\n",
       "<table border=\"1\" class=\"dataframe\">\n",
       "  <thead>\n",
       "    <tr style=\"text-align: right;\">\n",
       "      <th></th>\n",
       "      <th>Date</th>\n",
       "      <th>SPX</th>\n",
       "      <th>GLD</th>\n",
       "      <th>USO</th>\n",
       "      <th>SLV</th>\n",
       "      <th>EUR/USD</th>\n",
       "    </tr>\n",
       "  </thead>\n",
       "  <tbody>\n",
       "    <tr>\n",
       "      <th>2285</th>\n",
       "      <td>5/8/2018</td>\n",
       "      <td>2671.919922</td>\n",
       "      <td>124.589996</td>\n",
       "      <td>14.0600</td>\n",
       "      <td>15.5100</td>\n",
       "      <td>1.186789</td>\n",
       "    </tr>\n",
       "    <tr>\n",
       "      <th>2286</th>\n",
       "      <td>5/9/2018</td>\n",
       "      <td>2697.790039</td>\n",
       "      <td>124.330002</td>\n",
       "      <td>14.3700</td>\n",
       "      <td>15.5300</td>\n",
       "      <td>1.184722</td>\n",
       "    </tr>\n",
       "    <tr>\n",
       "      <th>2287</th>\n",
       "      <td>5/10/2018</td>\n",
       "      <td>2723.070068</td>\n",
       "      <td>125.180000</td>\n",
       "      <td>14.4100</td>\n",
       "      <td>15.7400</td>\n",
       "      <td>1.191753</td>\n",
       "    </tr>\n",
       "    <tr>\n",
       "      <th>2288</th>\n",
       "      <td>5/14/2018</td>\n",
       "      <td>2730.129883</td>\n",
       "      <td>124.489998</td>\n",
       "      <td>14.3800</td>\n",
       "      <td>15.5600</td>\n",
       "      <td>1.193118</td>\n",
       "    </tr>\n",
       "    <tr>\n",
       "      <th>2289</th>\n",
       "      <td>5/16/2018</td>\n",
       "      <td>2725.780029</td>\n",
       "      <td>122.543800</td>\n",
       "      <td>14.4058</td>\n",
       "      <td>15.4542</td>\n",
       "      <td>1.182033</td>\n",
       "    </tr>\n",
       "  </tbody>\n",
       "</table>\n",
       "</div>"
      ],
      "text/plain": [
       "           Date          SPX         GLD      USO      SLV   EUR/USD\n",
       "2285   5/8/2018  2671.919922  124.589996  14.0600  15.5100  1.186789\n",
       "2286   5/9/2018  2697.790039  124.330002  14.3700  15.5300  1.184722\n",
       "2287  5/10/2018  2723.070068  125.180000  14.4100  15.7400  1.191753\n",
       "2288  5/14/2018  2730.129883  124.489998  14.3800  15.5600  1.193118\n",
       "2289  5/16/2018  2725.780029  122.543800  14.4058  15.4542  1.182033"
      ]
     },
     "execution_count": 4,
     "metadata": {},
     "output_type": "execute_result"
    }
   ],
   "source": [
    "#printing last 5 rows of dataset\n",
    "\n",
    "gold_data.tail()"
   ]
  },
  {
   "cell_type": "code",
   "execution_count": 5,
   "id": "80c7d3c9-1fcc-4d12-a318-d6e03203591e",
   "metadata": {},
   "outputs": [
    {
     "name": "stdout",
     "output_type": "stream",
     "text": [
      "<class 'pandas.core.frame.DataFrame'>\n",
      "RangeIndex: 2290 entries, 0 to 2289\n",
      "Data columns (total 6 columns):\n",
      " #   Column   Non-Null Count  Dtype  \n",
      "---  ------   --------------  -----  \n",
      " 0   Date     2290 non-null   object \n",
      " 1   SPX      2290 non-null   float64\n",
      " 2   GLD      2290 non-null   float64\n",
      " 3   USO      2290 non-null   float64\n",
      " 4   SLV      2290 non-null   float64\n",
      " 5   EUR/USD  2290 non-null   float64\n",
      "dtypes: float64(5), object(1)\n",
      "memory usage: 107.5+ KB\n"
     ]
    }
   ],
   "source": [
    "#getting info about dataset\n",
    "\n",
    "gold_data.info()"
   ]
  },
  {
   "cell_type": "code",
   "execution_count": 6,
   "id": "a09ef9c8-efa7-4fdb-93f5-882a0864a326",
   "metadata": {},
   "outputs": [
    {
     "data": {
      "text/plain": [
       "(2290, 6)"
      ]
     },
     "execution_count": 6,
     "metadata": {},
     "output_type": "execute_result"
    }
   ],
   "source": [
    "#no of rows & columns \n",
    "\n",
    "gold_data.shape"
   ]
  },
  {
   "cell_type": "code",
   "execution_count": 7,
   "id": "f3c2e3b9-a2fb-46ce-9071-dad07dbc91b4",
   "metadata": {},
   "outputs": [
    {
     "data": {
      "text/plain": [
       "Date       0\n",
       "SPX        0\n",
       "GLD        0\n",
       "USO        0\n",
       "SLV        0\n",
       "EUR/USD    0\n",
       "dtype: int64"
      ]
     },
     "execution_count": 7,
     "metadata": {},
     "output_type": "execute_result"
    }
   ],
   "source": [
    "#checking for missing values \n",
    "\n",
    "gold_data.isnull().sum()"
   ]
  },
  {
   "cell_type": "code",
   "execution_count": 8,
   "id": "0518ead6-3cb6-4e72-b3f7-026a970dacab",
   "metadata": {},
   "outputs": [
    {
     "data": {
      "text/html": [
       "<div>\n",
       "<style scoped>\n",
       "    .dataframe tbody tr th:only-of-type {\n",
       "        vertical-align: middle;\n",
       "    }\n",
       "\n",
       "    .dataframe tbody tr th {\n",
       "        vertical-align: top;\n",
       "    }\n",
       "\n",
       "    .dataframe thead th {\n",
       "        text-align: right;\n",
       "    }\n",
       "</style>\n",
       "<table border=\"1\" class=\"dataframe\">\n",
       "  <thead>\n",
       "    <tr style=\"text-align: right;\">\n",
       "      <th></th>\n",
       "      <th>SPX</th>\n",
       "      <th>GLD</th>\n",
       "      <th>USO</th>\n",
       "      <th>SLV</th>\n",
       "      <th>EUR/USD</th>\n",
       "    </tr>\n",
       "  </thead>\n",
       "  <tbody>\n",
       "    <tr>\n",
       "      <th>count</th>\n",
       "      <td>2290.000000</td>\n",
       "      <td>2290.000000</td>\n",
       "      <td>2290.000000</td>\n",
       "      <td>2290.000000</td>\n",
       "      <td>2290.000000</td>\n",
       "    </tr>\n",
       "    <tr>\n",
       "      <th>mean</th>\n",
       "      <td>1654.315776</td>\n",
       "      <td>122.732875</td>\n",
       "      <td>31.842221</td>\n",
       "      <td>20.084997</td>\n",
       "      <td>1.283653</td>\n",
       "    </tr>\n",
       "    <tr>\n",
       "      <th>std</th>\n",
       "      <td>519.111540</td>\n",
       "      <td>23.283346</td>\n",
       "      <td>19.523517</td>\n",
       "      <td>7.092566</td>\n",
       "      <td>0.131547</td>\n",
       "    </tr>\n",
       "    <tr>\n",
       "      <th>min</th>\n",
       "      <td>676.530029</td>\n",
       "      <td>70.000000</td>\n",
       "      <td>7.960000</td>\n",
       "      <td>8.850000</td>\n",
       "      <td>1.039047</td>\n",
       "    </tr>\n",
       "    <tr>\n",
       "      <th>25%</th>\n",
       "      <td>1239.874969</td>\n",
       "      <td>109.725000</td>\n",
       "      <td>14.380000</td>\n",
       "      <td>15.570000</td>\n",
       "      <td>1.171313</td>\n",
       "    </tr>\n",
       "    <tr>\n",
       "      <th>50%</th>\n",
       "      <td>1551.434998</td>\n",
       "      <td>120.580002</td>\n",
       "      <td>33.869999</td>\n",
       "      <td>17.268500</td>\n",
       "      <td>1.303297</td>\n",
       "    </tr>\n",
       "    <tr>\n",
       "      <th>75%</th>\n",
       "      <td>2073.010070</td>\n",
       "      <td>132.840004</td>\n",
       "      <td>37.827501</td>\n",
       "      <td>22.882500</td>\n",
       "      <td>1.369971</td>\n",
       "    </tr>\n",
       "    <tr>\n",
       "      <th>max</th>\n",
       "      <td>2872.870117</td>\n",
       "      <td>184.589996</td>\n",
       "      <td>117.480003</td>\n",
       "      <td>47.259998</td>\n",
       "      <td>1.598798</td>\n",
       "    </tr>\n",
       "  </tbody>\n",
       "</table>\n",
       "</div>"
      ],
      "text/plain": [
       "               SPX          GLD          USO          SLV      EUR/USD\n",
       "count  2290.000000  2290.000000  2290.000000  2290.000000  2290.000000\n",
       "mean   1654.315776   122.732875    31.842221    20.084997     1.283653\n",
       "std     519.111540    23.283346    19.523517     7.092566     0.131547\n",
       "min     676.530029    70.000000     7.960000     8.850000     1.039047\n",
       "25%    1239.874969   109.725000    14.380000    15.570000     1.171313\n",
       "50%    1551.434998   120.580002    33.869999    17.268500     1.303297\n",
       "75%    2073.010070   132.840004    37.827501    22.882500     1.369971\n",
       "max    2872.870117   184.589996   117.480003    47.259998     1.598798"
      ]
     },
     "execution_count": 8,
     "metadata": {},
     "output_type": "execute_result"
    }
   ],
   "source": [
    "#getting statiscal measures of dataset\n",
    "\n",
    "gold_data.describe()"
   ]
  },
  {
   "cell_type": "markdown",
   "id": "74fe181a-8659-46f0-9e99-b0772fc92476",
   "metadata": {},
   "source": [
    "Correleation :"
   ]
  },
  {
   "cell_type": "code",
   "execution_count": 10,
   "id": "ea8cb2db-bcc7-4c13-808e-d1ceeec87313",
   "metadata": {},
   "outputs": [],
   "source": [
    "gold_data = gold_data.drop(columns = 'Date', axis = 1)"
   ]
  },
  {
   "cell_type": "code",
   "execution_count": 13,
   "id": "fe3e9634-bd73-43bd-ba7f-39d286e19c4e",
   "metadata": {},
   "outputs": [],
   "source": [
    "correlation = gold_data.corr()"
   ]
  },
  {
   "cell_type": "code",
   "execution_count": 14,
   "id": "5e5ec2ee-86c1-4f9d-8eb2-7891896f67ea",
   "metadata": {},
   "outputs": [
    {
     "data": {
      "text/plain": [
       "<Axes: >"
      ]
     },
     "execution_count": 14,
     "metadata": {},
     "output_type": "execute_result"
    },
    {
     "data": {
      "image/png": "[encoded data removed]",
      "text/plain": [
       "<Figure size 640x480 with 2 Axes>"
      ]
     },
     "metadata": {},
     "output_type": "display_data"
    }
   ],
   "source": [
    "sns.heatmap(correlation, cbar = True, square = True, fmt = '.1f', annot = True, annot_kws={'size':8}, cmap='Blues')"
   ]
  },
  {
   "cell_type": "code",
   "execution_count": 16,
   "id": "ce57d63e-9077-42a3-84fb-c998bb818b6e",
   "metadata": {},
   "outputs": [
    {
     "name": "stdout",
     "output_type": "stream",
     "text": [
      "SPX        0.049345\n",
      "GLD        1.000000\n",
      "USO       -0.186360\n",
      "SLV        0.866632\n",
      "EUR/USD   -0.024375\n",
      "Name: GLD, dtype: float64\n"
     ]
    }
   ],
   "source": [
    "#corr values of GLD\n",
    "\n",
    "print(correlation['GLD'])"
   ]
  },
  {
   "cell_type": "code",
   "execution_count": 17,
   "id": "e38db83c-0078-44b7-8969-b54c11be702e",
   "metadata": {},
   "outputs": [
    {
     "name": "stderr",
     "output_type": "stream",
     "text": [
      "C:\\Users\\adhic\\anaconda3\\Lib\\site-packages\\seaborn\\_oldcore.py:1119: FutureWarning: use_inf_as_na option is deprecated and will be removed in a future version. Convert inf values to NaN before operating instead.\n",
      "  with pd.option_context('mode.use_inf_as_na', True):\n"
     ]
    },
    {
     "data": {
      "text/plain": [
       "<Axes: xlabel='GLD', ylabel='Count'>"
      ]
     },
     "execution_count": 17,
     "metadata": {},
     "output_type": "execute_result"
    },
    {
     "data": {
      "image/png": "[encoded data removed]",
      "text/plain": [
       "<Figure size 640x480 with 1 Axes>"
      ]
     },
     "metadata": {},
     "output_type": "display_data"
    }
   ],
   "source": [
    "#checking distribution of GLD price\n",
    "\n",
    "sns.histplot(gold_data['GLD'], color = 'green')"
   ]
  },
  {
   "cell_type": "markdown",
   "id": "9af8ac55-0b80-4390-b6e4-79072a73f4eb",
   "metadata": {},
   "source": [
    "Splitting Features and Target :"
   ]
  },
  {
   "cell_type": "code",
   "execution_count": 18,
   "id": "94ccd7bb-5c04-42ea-9702-a0aa8ea5eb1e",
   "metadata": {},
   "outputs": [],
   "source": [
    "X = gold_data.drop(columns = 'GLD', axis = 1)\n",
    "Y = gold_data['GLD']"
   ]
  },
  {
   "cell_type": "code",
   "execution_count": 19,
   "id": "59c4bdf6-2749-4397-91ba-b6ec854e5e29",
   "metadata": {},
   "outputs": [
    {
     "name": "stdout",
     "output_type": "stream",
     "text": [
      "              SPX        USO      SLV   EUR/USD\n",
      "0     1447.160034  78.470001  15.1800  1.471692\n",
      "1     1447.160034  78.370003  15.2850  1.474491\n",
      "2     1411.630005  77.309998  15.1670  1.475492\n",
      "3     1416.180054  75.500000  15.0530  1.468299\n",
      "4     1390.189941  76.059998  15.5900  1.557099\n",
      "...           ...        ...      ...       ...\n",
      "2285  2671.919922  14.060000  15.5100  1.186789\n",
      "2286  2697.790039  14.370000  15.5300  1.184722\n",
      "2287  2723.070068  14.410000  15.7400  1.191753\n",
      "2288  2730.129883  14.380000  15.5600  1.193118\n",
      "2289  2725.780029  14.405800  15.4542  1.182033\n",
      "\n",
      "[2290 rows x 4 columns]\n"
     ]
    }
   ],
   "source": [
    "print(X)"
   ]
  },
  {
   "cell_type": "code",
   "execution_count": 20,
   "id": "1f88c18b-62f9-4201-89d0-931e1feb3f6d",
   "metadata": {},
   "outputs": [
    {
     "name": "stdout",
     "output_type": "stream",
     "text": [
      "0        84.860001\n",
      "1        85.570000\n",
      "2        85.129997\n",
      "3        84.769997\n",
      "4        86.779999\n",
      "           ...    \n",
      "2285    124.589996\n",
      "2286    124.330002\n",
      "2287    125.180000\n",
      "2288    124.489998\n",
      "2289    122.543800\n",
      "Name: GLD, Length: 2290, dtype: float64\n"
     ]
    }
   ],
   "source": [
    "print(Y)"
   ]
  },
  {
   "cell_type": "markdown",
   "id": "04ffc5e0-386b-4889-8d73-41c95df933c9",
   "metadata": {},
   "source": [
    "Splitting into Training & Testing Data :"
   ]
  },
  {
   "cell_type": "code",
   "execution_count": 21,
   "id": "b052a3d9-cd41-460e-8306-b19e2bc34371",
   "metadata": {},
   "outputs": [],
   "source": [
    "X_train, X_test, Y_train, Y_test = train_test_split(X,Y, test_size = 0.2, random_state = 2)"
   ]
  },
  {
   "cell_type": "markdown",
   "id": "6127f672-4c18-49ab-82b5-1b3ff28b4383",
   "metadata": {},
   "source": [
    "Model Training :\n",
    "\n",
    "Random Forest Regressor"
   ]
  },
  {
   "cell_type": "code",
   "execution_count": 22,
   "id": "2000aca3-a1cd-411a-af6f-195b461bed18",
   "metadata": {},
   "outputs": [],
   "source": [
    "model = RandomForestRegressor()"
   ]
  },
  {
   "cell_type": "code",
   "execution_count": 23,
   "id": "85783d8c-b0eb-4c67-803d-151ff8bc4feb",
   "metadata": {},
   "outputs": [
    {
     "data": {
      "text/html": [
       "<style>#sk-container-id-1 {color: black;background-color: white;}#sk-container-id-1 pre{padding: 0;}#sk-container-id-1 div.sk-toggleable {background-color: white;}#sk-container-id-1 label.sk-toggleable__label {cursor: pointer;display: block;width: 100%;margin-bottom: 0;padding: 0.3em;box-sizing: border-box;text-align: center;}#sk-container-id-1 label.sk-toggleable__label-arrow:before {content: \"▸\";float: left;margin-right: 0.25em;color: #696969;}#sk-container-id-1 label.sk-toggleable__label-arrow:hover:before {color: black;}#sk-container-id-1 div.sk-estimator:hover label.sk-toggleable__label-arrow:before {color: black;}#sk-container-id-1 div.sk-toggleable__content {max-height: 0;max-width: 0;overflow: hidden;text-align: left;background-color: #f0f8ff;}#sk-container-id-1 div.sk-toggleable__content pre {margin: 0.2em;color: black;border-radius: 0.25em;background-color: #f0f8ff;}#sk-container-id-1 input.sk-toggleable__control:checked~div.sk-toggleable__content {max-height: 200px;max-width: 100%;overflow: auto;}#sk-container-id-1 input.sk-toggleable__control:checked~label.sk-toggleable__label-arrow:before {content: \"▾\";}#sk-container-id-1 div.sk-estimator input.sk-toggleable__control:checked~label.sk-toggleable__label {background-color: #d4ebff;}#sk-container-id-1 div.sk-label input.sk-toggleable__control:checked~label.sk-toggleable__label {background-color: #d4ebff;}#sk-container-id-1 input.sk-hidden--visually {border: 0;clip: rect(1px 1px 1px 1px);clip: rect(1px, 1px, 1px, 1px);height: 1px;margin: -1px;overflow: hidden;padding: 0;position: absolute;width: 1px;}#sk-container-id-1 div.sk-estimator {font-family: monospace;background-color: #f0f8ff;border: 1px dotted black;border-radius: 0.25em;box-sizing: border-box;margin-bottom: 0.5em;}#sk-container-id-1 div.sk-estimator:hover {background-color: #d4ebff;}#sk-container-id-1 div.sk-parallel-item::after {content: \"\";width: 100%;border-bottom: 1px solid gray;flex-grow: 1;}#sk-container-id-1 div.sk-label:hover label.sk-toggleable__label {background-color: #d4ebff;}#sk-container-id-1 div.sk-serial::before {content: \"\";position: absolute;border-left: 1px solid gray;box-sizing: border-box;top: 0;bottom: 0;left: 50%;z-index: 0;}#sk-container-id-1 div.sk-serial {display: flex;flex-direction: column;align-items: center;background-color: white;padding-right: 0.2em;padding-left: 0.2em;position: relative;}#sk-container-id-1 div.sk-item {position: relative;z-index: 1;}#sk-container-id-1 div.sk-parallel {display: flex;align-items: stretch;justify-content: center;background-color: white;position: relative;}#sk-container-id-1 div.sk-item::before, #sk-container-id-1 div.sk-parallel-item::before {content: \"\";position: absolute;border-left: 1px solid gray;box-sizing: border-box;top: 0;bottom: 0;left: 50%;z-index: -1;}#sk-container-id-1 div.sk-parallel-item {display: flex;flex-direction: column;z-index: 1;position: relative;background-color: white;}#sk-container-id-1 div.sk-parallel-item:first-child::after {align-self: flex-end;width: 50%;}#sk-container-id-1 div.sk-parallel-item:last-child::after {align-self: flex-start;width: 50%;}#sk-container-id-1 div.sk-parallel-item:only-child::after {width: 0;}#sk-container-id-1 div.sk-dashed-wrapped {border: 1px dashed gray;margin: 0 0.4em 0.5em 0.4em;box-sizing: border-box;padding-bottom: 0.4em;background-color: white;}#sk-container-id-1 div.sk-label label {font-family: monospace;font-weight: bold;display: inline-block;line-height: 1.2em;}#sk-container-id-1 div.sk-label-container {text-align: center;}#sk-container-id-1 div.sk-container {/* jupyter's `normalize.less` sets `[hidden] { display: none; }` but bootstrap.min.css set `[hidden] { display: none !important; }` so we also need the `!important` here to be able to override the default hidden behavior on the sphinx rendered scikit-learn.org. See: https://github.com/scikit-learn/scikit-learn/issues/21755 */display: inline-block !important;position: relative;}#sk-container-id-1 div.sk-text-repr-fallback {display: none;}</style><div id=\"sk-container-id-1\" class=\"sk-top-container\"><div class=\"sk-text-repr-fallback\"><pre>RandomForestRegressor()</pre><b>In a Jupyter environment, please rerun this cell to show the HTML representation or trust the notebook. <br />On GitHub, the HTML representation is unable to render, please try loading this page with nbviewer.org.</b></div><div class=\"sk-container\" hidden><div class=\"sk-item\"><div class=\"sk-estimator sk-toggleable\"><input class=\"sk-toggleable__control sk-hidden--visually\" id=\"sk-estimator-id-1\" type=\"checkbox\" checked><label for=\"sk-estimator-id-1\" class=\"sk-toggleable__label sk-toggleable__label-arrow\">RandomForestRegressor</label><div class=\"sk-toggleable__content\"><pre>RandomForestRegressor()</pre></div></div></div></div></div>"
      ],
      "text/plain": [
       "RandomForestRegressor()"
      ]
     },
     "execution_count": 23,
     "metadata": {},
     "output_type": "execute_result"
    }
   ],
   "source": [
    "model.fit(X_train, Y_train)"
   ]
  },
  {
   "cell_type": "markdown",
   "id": "04c7c18f-92f3-407e-ae3a-17f6367c9bb3",
   "metadata": {},
   "source": [
    "Model Evaluation :"
   ]
  },
  {
   "cell_type": "code",
   "execution_count": 24,
   "id": "86c7d468-5976-47da-b53c-46631896c174",
   "metadata": {},
   "outputs": [],
   "source": [
    "test_pred = model.predict(X_test)"
   ]
  },
  {
   "cell_type": "code",
   "execution_count": 25,
   "id": "6fda1325-bf01-4bcf-94bb-17b1f616b177",
   "metadata": {
    "scrolled": true
   },
   "outputs": [
    {
     "name": "stdout",
     "output_type": "stream",
     "text": [
      "[168.35249914  82.43219956 116.24690036 127.65810054 120.67660147\n",
      " 154.80069697 150.32319807 126.23480019 117.54969892 126.08860027\n",
      " 116.79400069 171.77840044 141.86119858 167.94249832 115.26260012\n",
      " 117.49660049 138.44050324 170.02860065 159.32760332 158.05539934\n",
      " 155.0079003  125.4058003  175.58779885 157.37590317 125.12180049\n",
      "  93.94459995  77.7757004  120.53439987 119.00839877 167.44669938\n",
      "  88.26420047 125.13029964  91.1560009  117.67180008 121.05589926\n",
      " 135.83470071 115.80530095 115.15540071 147.87289962 107.10980123\n",
      " 104.07750256  87.06969771 126.55290053 117.97220009 153.29089874\n",
      " 119.58119995 108.35030004 107.94929838  93.23370071 127.0248981\n",
      "  75.48130026 113.69939929 121.28319994 111.23489906 118.81499903\n",
      " 120.66339929 159.79170053 167.95370131 146.80729673  85.90029886\n",
      "  94.45990041  86.82189873  90.66560046 119.00410061 126.48760081\n",
      " 127.53619998 170.18169965 122.19079924 117.33429877  98.51709999\n",
      " 168.61150164 143.05319861 131.64580325 121.11670203 121.74579939\n",
      " 119.78300072 114.53680193 118.19560055 107.13590117 127.8513013\n",
      " 113.48770001 107.6947999  117.05460063 119.62879849  89.03690031\n",
      "  88.15649843 146.42270233 127.2771002  113.44189987 110.34859866\n",
      " 108.2805992   76.84399928 170.3220025  114.05749924 121.61259902\n",
      " 128.31260236 154.83919797  91.78509943 135.23060152 158.51160286\n",
      " 125.20190043 125.27460069 130.48290119 114.85360134 119.69310036\n",
      "  92.00029972 110.30209892 169.01429945 156.38499893 114.30019958\n",
      " 106.66530137  79.57759977 113.30540035 125.8405005  107.03149933\n",
      " 119.39580134 155.70530292 159.41789877 120.8037998  134.09330286\n",
      " 101.5035998  117.55799793 119.35900011 112.93500087 102.80139932\n",
      " 159.92769838  98.87900043 147.54299885 125.83950119 169.83529866\n",
      " 125.76609889 127.28089795 127.22710147 113.7346994  113.15400057\n",
      " 123.57969902 102.0452989   89.27909979 124.68299941 101.78719934\n",
      " 107.23789946 113.44880089 117.01890082  99.08379914 121.6497004\n",
      " 163.34169974  87.3353987  106.76099995 117.22760059 127.7101019\n",
      " 124.21170078  80.65099915 120.43800083 158.10659794  87.9324998\n",
      " 110.34189959 118.75019918 172.47719811 103.00369892 105.27140039\n",
      " 122.22890041 158.34409774  87.57189834  93.32360052 112.59730026\n",
      " 177.13609914 114.62849969 119.36479968  94.83520083 125.76430027\n",
      " 166.10149979 114.88340076 116.64360127  88.21999837 148.68520092\n",
      " 120.42289936  89.52809968 111.8626001  117.1601003  118.80020115\n",
      "  88.2375996   94.11239989 117.12969988 118.74400161 120.15890009\n",
      " 126.82099831 122.08089982 150.88499998 166.12220134 118.49429956\n",
      " 120.26470162 151.62970017 118.36429909 172.52709904 105.43399937\n",
      " 104.89410109 149.13460096 113.52440127 124.83150108 147.11870045\n",
      " 119.72960118 115.34950037 112.16810009 113.37930249 140.0231011\n",
      " 117.87799752 102.91460062 115.7955011  103.30480175  98.6409002\n",
      " 117.39530072  90.56620005  91.78680014 153.4446987  102.7612997\n",
      " 154.29470057 114.27480193 138.84460177  90.16919842 115.54149932\n",
      " 114.27549962 122.88469993 121.84670033 165.09280135  92.83779942\n",
      " 135.68140128 121.37989922 120.84240017 104.58430034 142.17970251\n",
      " 121.31279932 116.53850029 113.6257006  127.04739783 122.79939944\n",
      " 125.66259945 121.30620025  86.81329884 132.57000173 144.88060181\n",
      "  92.76789936 159.20969996 158.73780265 126.22279934 165.42459976\n",
      " 109.09979972 109.41580058 103.71139859  94.16350094 128.1092031\n",
      " 107.13620072 162.19960016 121.52750039 131.98290022 130.49080114\n",
      " 160.48559965  90.19769872 174.49680122 127.41060021 126.7841987\n",
      "  86.58849932 124.47889929 150.17659693  89.6761001  107.07059961\n",
      " 108.92949972  84.43139892 136.01369924 155.01980181 139.94780308\n",
      "  74.18690018 152.45930052 125.82140001 126.76419997 127.46909895\n",
      " 108.49379925 156.5291995  114.62020115 117.05840139 125.15849961\n",
      " 153.95650124 121.44609973 156.48029834  92.91290061 125.47470154\n",
      " 126.23260042  87.82460038  92.04729961 126.3601987  128.42640359\n",
      " 113.2706009  117.71119734 120.97699969 127.09029787 119.65670149\n",
      " 136.00910084  93.83889946 119.89630057 113.04680108  94.21409929\n",
      " 108.71720018  86.86969924 108.83579953  89.47069994  92.43650028\n",
      " 131.54820313 162.39540089  89.18320017 119.76520077 133.24470171\n",
      " 123.78690003 128.28980185 101.89439863  88.99069843 131.74820111\n",
      " 120.11490071 108.3431001  168.94880043 115.12860063  86.53639889\n",
      " 118.9119007   91.04359965 161.90710099 116.47880066 121.68670007\n",
      " 160.274398   119.99299931 112.32049975 108.50339893 126.72969941\n",
      "  76.21630049 102.96969964 127.99420219 121.78119968  92.64859997\n",
      " 131.7819005  118.12650084 116.0206999  154.17120286 159.48560078\n",
      " 109.99679938 151.12049736 119.39200119 160.06170059 118.50220029\n",
      " 159.2243     115.1470999  116.5232002  149.90369846 114.83830071\n",
      " 125.91589895 166.52629823 117.63709996 125.16489946 153.3807036\n",
      " 153.60100185 132.14220116 114.8565002  121.16740197 124.65800086\n",
      "  89.8287005  123.48579954 155.26520294 111.80290067 106.57890037\n",
      " 161.41370122 118.58769976 165.71059966 134.06840105 115.19509937\n",
      " 153.12909953 168.49860045 114.80480011 114.0415012  158.9621987\n",
      "  85.01569916 127.11880055 127.93490054 128.77570027 124.11830053\n",
      " 123.9244009   90.51800087 153.16580081  97.1644997  137.3090001\n",
      "  89.05209924 107.72269998 115.0344005  113.06960076 124.10099914\n",
      "  91.33189868 125.36520128 162.36879879 119.76219923 165.06770139\n",
      " 126.87229829 112.40170024 127.45819937  94.87739886  91.12940008\n",
      " 103.66039904 120.91549972  83.12619945 126.36070005 160.33010488\n",
      " 117.19370101 118.25010009 119.81469985 122.62729997 120.13090151\n",
      " 121.52820009 118.2672002  107.13359977 148.14480036 126.13859858\n",
      " 115.62690093  73.78579996 127.76770044 155.18160056 122.71100016\n",
      " 125.55280088  88.81640041 103.20489876 124.33010062 120.32860015\n",
      "  73.43070075 151.14320009 121.04540015 104.71510024  86.48619797\n",
      " 115.20139917 172.25959856 119.82790044 160.75599777 113.22149951\n",
      " 121.12080016 118.48920101  96.00669983 118.69630046 125.75990053\n",
      " 118.62639949  95.80820012 154.08670217 122.09970015 147.70350003\n",
      " 159.94410192 114.01029999 122.55949932 150.69229848 127.37110061\n",
      " 165.80920032 135.86309939 119.87919972 167.03229824 108.39179954\n",
      " 121.77999856 138.23660071 106.63179899]\n"
     ]
    }
   ],
   "source": [
    "print(test_pred)"
   ]
  },
  {
   "cell_type": "code",
   "execution_count": 26,
   "id": "19ef899a-fbee-4a6c-8c48-36c45f481e31",
   "metadata": {},
   "outputs": [
    {
     "name": "stdout",
     "output_type": "stream",
     "text": [
      "R Sq Error :  0.9895989971429676\n"
     ]
    }
   ],
   "source": [
    "#R sq Error \n",
    "\n",
    "r2_score = metrics.r2_score(Y_test, test_pred)\n",
    "print(\"R Sq Error : \", r2_score) "
   ]
  },
  {
   "cell_type": "markdown",
   "id": "81c449e7-187c-4c24-addb-cc7ac494f3dd",
   "metadata": {},
   "source": [
    "Comaparing the Actual Values & Predicted Values in a Plot :"
   ]
  },
  {
   "cell_type": "code",
   "execution_count": 27,
   "id": "b8e3b676-df90-4c52-8ad0-6889a7c407d8",
   "metadata": {},
   "outputs": [],
   "source": [
    "Y_test = list(Y_test)"
   ]
  },
  {
   "cell_type": "code",
   "execution_count": 28,
   "id": "4c150ecb-b3ad-4171-8a2e-de12711309cf",
   "metadata": {},
   "outputs": [
    {
     "data": {
      "image/png": "[encoded data removed]",
      "text/plain": [
       "<Figure size 640x480 with 1 Axes>"
      ]
     },
     "metadata": {},
     "output_type": "display_data"
    }
   ],
   "source": [
    "plt.plot(Y_test, color = 'blue', label = 'Actual Value')\n",
    "plt.plot(test_pred, color = 'green', label = 'Predicted Value')\n",
    "plt.title('Actual Price vs Predicted Price')\n",
    "plt.xlabel('Number of values')\n",
    "plt.ylabel('GLD Price')\n",
    "plt.legend()\n",
    "plt.show()"
   ]
  },
  {
   "cell_type": "code",
   "execution_count": null,
   "id": "0ef7d55c-0176-4f6f-996e-e7279ae59e9a",
   "metadata": {},
   "outputs": [],
   "source": []
  }
 ],
 "metadata": {
  "kernelspec": {
   "display_name": "Python 3 (ipykernel)",
   "language": "python",
   "name": "python3"
  },
  "language_info": {
   "codemirror_mode": {
    "name": "ipython",
    "version": 3
   },
   "file_extension": ".py",
   "mimetype": "text/x-python",
   "name": "python",
   "nbconvert_exporter": "python",
   "pygments_lexer": "ipython3",
   "version": "3.11.7"
  }
 },
 "nbformat": 4,
 "nbformat_minor": 5
}
